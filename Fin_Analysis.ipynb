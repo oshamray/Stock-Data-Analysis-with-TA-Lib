{
  "nbformat": 4,
  "nbformat_minor": 0,
  "metadata": {
    "colab": {
      "name": "Fin_Analysis.ipynb",
      "provenance": [],
      "collapsed_sections": [],
      "authorship_tag": "ABX9TyNmfy5G5lg4Ncj0EnIGXSE3",
      "include_colab_link": true
    },
    "kernelspec": {
      "name": "python3",
      "display_name": "Python 3"
    }
  },
  "cells": [
    {
      "cell_type": "markdown",
      "metadata": {
        "id": "view-in-github",
        "colab_type": "text"
      },
      "source": [
        "<a href=\"https://colab.research.google.com/github/oshamray/Stock-Data-Analysis-with-TA-Lib/blob/master/Fin_Analysis.ipynb\" target=\"_parent\"><img src=\"https://colab.research.google.com/assets/colab-badge.svg\" alt=\"Open In Colab\"/></a>"
      ]
    },
    {
      "cell_type": "markdown",
      "metadata": {
        "id": "ECo4Z-PtSxHd",
        "colab_type": "text"
      },
      "source": [
        "# **TA-Lib prepare for working with Colab area**"
      ]
    },
    {
      "cell_type": "code",
      "metadata": {
        "id": "gpo6R7-uR1mq",
        "colab_type": "code",
        "colab": {}
      },
      "source": [
        "# download TA-Lib \n",
        "!wget http://prdownloads.sourceforge.net/ta-lib/ta-lib-0.4.0-src.tar.gz \n"
      ],
      "execution_count": null,
      "outputs": []
    },
    {
      "cell_type": "code",
      "metadata": {
        "id": "bsxhSZ-GS-eX",
        "colab_type": "code",
        "colab": {}
      },
      "source": [
        "!ls"
      ],
      "execution_count": null,
      "outputs": []
    },
    {
      "cell_type": "code",
      "metadata": {
        "id": "gtbWkoqnTAoK",
        "colab_type": "code",
        "colab": {}
      },
      "source": [
        "!tar xvzf ta-lib-0.4.0-src.tar.gz"
      ],
      "execution_count": null,
      "outputs": []
    },
    {
      "cell_type": "code",
      "metadata": {
        "id": "rnUfZnDCTG_M",
        "colab_type": "code",
        "colab": {}
      },
      "source": [
        "!ls"
      ],
      "execution_count": null,
      "outputs": []
    },
    {
      "cell_type": "code",
      "metadata": {
        "id": "8mejj2cLTOik",
        "colab_type": "code",
        "colab": {}
      },
      "source": [
        "import os"
      ],
      "execution_count": 20,
      "outputs": []
    },
    {
      "cell_type": "code",
      "metadata": {
        "id": "II74YaEsTSPJ",
        "colab_type": "code",
        "colab": {}
      },
      "source": [
        "os.chdir('ta-lib') # Can't use !cd in co-lab"
      ],
      "execution_count": 21,
      "outputs": []
    },
    {
      "cell_type": "code",
      "metadata": {
        "id": "KhL-XZTCTXnU",
        "colab_type": "code",
        "colab": {}
      },
      "source": [
        "!./configure --prefix=/usr"
      ],
      "execution_count": null,
      "outputs": []
    },
    {
      "cell_type": "code",
      "metadata": {
        "id": "CVTddTA6TemF",
        "colab_type": "code",
        "colab": {}
      },
      "source": [
        "!make"
      ],
      "execution_count": null,
      "outputs": []
    },
    {
      "cell_type": "code",
      "metadata": {
        "id": "_6vKEld2Ti5Z",
        "colab_type": "code",
        "colab": {}
      },
      "source": [
        "!make install"
      ],
      "execution_count": null,
      "outputs": []
    },
    {
      "cell_type": "code",
      "metadata": {
        "id": "L5AQVJxVT8Gm",
        "colab_type": "code",
        "colab": {}
      },
      "source": [
        "os.chdir('../')"
      ],
      "execution_count": 25,
      "outputs": []
    },
    {
      "cell_type": "code",
      "metadata": {
        "id": "hyiasT11UAbq",
        "colab_type": "code",
        "colab": {}
      },
      "source": [
        "!ls"
      ],
      "execution_count": null,
      "outputs": []
    },
    {
      "cell_type": "code",
      "metadata": {
        "id": "o_StwfYzUEJI",
        "colab_type": "code",
        "colab": {}
      },
      "source": [
        "!pip install TA-Lib"
      ],
      "execution_count": null,
      "outputs": []
    },
    {
      "cell_type": "markdown",
      "metadata": {
        "id": "hwzJaewxTlVZ",
        "colab_type": "text"
      },
      "source": [
        "# **Start working with TA-Lib**"
      ]
    },
    {
      "cell_type": "code",
      "metadata": {
        "id": "BIlu2ZokRNQC",
        "colab_type": "code",
        "colab": {}
      },
      "source": [
        "import talib\n",
        "import numpy as np\n",
        "import pandas as pd"
      ],
      "execution_count": 28,
      "outputs": []
    },
    {
      "cell_type": "code",
      "metadata": {
        "id": "GYO4pGjVUiwh",
        "colab_type": "code",
        "colab": {}
      },
      "source": [
        "pip install mpl_finance"
      ],
      "execution_count": null,
      "outputs": []
    },
    {
      "cell_type": "code",
      "metadata": {
        "id": "GgY3HgOl0fbm",
        "colab_type": "code",
        "colab": {}
      },
      "source": [
        "pip install yfinance"
      ],
      "execution_count": null,
      "outputs": []
    },
    {
      "cell_type": "code",
      "metadata": {
        "id": "xg0QSi-k4qyn",
        "colab_type": "code",
        "colab": {
          "base_uri": "https://localhost:8080/",
          "height": 67
        },
        "outputId": "b611bebf-1ba2-4074-fd09-ccf56d5ea9d2"
      },
      "source": [
        "pip install plotly"
      ],
      "execution_count": 48,
      "outputs": [
        {
          "output_type": "stream",
          "text": [
            "Requirement already satisfied: plotly in /usr/local/lib/python3.6/dist-packages (4.4.1)\n",
            "Requirement already satisfied: retrying>=1.3.3 in /usr/local/lib/python3.6/dist-packages (from plotly) (1.3.3)\n",
            "Requirement already satisfied: six in /usr/local/lib/python3.6/dist-packages (from plotly) (1.12.0)\n"
          ],
          "name": "stdout"
        }
      ]
    },
    {
      "cell_type": "code",
      "metadata": {
        "id": "hF26KRc80PWb",
        "colab_type": "code",
        "colab": {
          "base_uri": "https://localhost:8080/",
          "height": 34
        },
        "outputId": "5301c773-a80d-4cdc-ba41-b639aaeddc06"
      },
      "source": [
        "import yfinance as yf\n",
        "df = yf.download(\"INTC\", start=\"2020-01-01\", end=\"2020-07-01\")\n",
        "df.reset_index(drop=False, inplace=True)"
      ],
      "execution_count": 41,
      "outputs": [
        {
          "output_type": "stream",
          "text": [
            "\r[*********************100%***********************]  1 of 1 completed\n"
          ],
          "name": "stdout"
        }
      ]
    },
    {
      "cell_type": "code",
      "metadata": {
        "id": "K6Q9yB_C1ICp",
        "colab_type": "code",
        "colab": {
          "base_uri": "https://localhost:8080/",
          "height": 34
        },
        "outputId": "316518ad-5379-46cc-dfab-5a9940d7dbe0"
      },
      "source": [
        "dates = df[df.columns[0]]"
      ],
      "execution_count": 59,
      "outputs": [
        {
          "output_type": "execute_result",
          "data": {
            "text/plain": [
              "Timestamp('2020-03-06 00:00:00')"
            ]
          },
          "metadata": {
            "tags": []
          },
          "execution_count": 59
        }
      ]
    },
    {
      "cell_type": "code",
      "metadata": {
        "id": "RwtyuXxcWeNv",
        "colab_type": "code",
        "colab": {}
      },
      "source": [
        "Open = df['Open'].values\n",
        "High = df['High'].values\n",
        "Low = df['Low'].values\n",
        "Close = df['Close'].values\n",
        "result = talib.CDLHAMMER(Open,High,Low,Close)\n",
        "#result = talib.CDLHARAMICROSS(Open,High,Low,Close)\n",
        "#result = talib.CDLCONCEALBABYSWALL(Open,High,Low,Close)"
      ],
      "execution_count": 38,
      "outputs": []
    },
    {
      "cell_type": "code",
      "metadata": {
        "id": "R9-CDW8VWh3Q",
        "colab_type": "code",
        "colab": {
          "base_uri": "https://localhost:8080/",
          "height": 185
        },
        "outputId": "2ff5b29b-509a-4005-f373-edfa011fef5f"
      },
      "source": [
        "result"
      ],
      "execution_count": 39,
      "outputs": [
        {
          "output_type": "execute_result",
          "data": {
            "text/plain": [
              "array([  0,   0,   0,   0,   0,   0,   0,   0,   0,   0,   0,   0,   0,\n",
              "         0,   0,   0,   0,   0,   0,   0,   0,   0,   0,   0,   0,   0,\n",
              "         0,   0,   0,   0,   0,   0,   0,   0,   0,   0,   0,   0,   0,\n",
              "         0,   0,   0,   0,   0, 100,   0,   0,   0,   0,   0,   0,   0,\n",
              "         0,   0,   0,   0,   0,   0,   0,   0,   0,   0,   0,   0,   0,\n",
              "         0,   0,   0,   0,   0,   0,   0,   0,   0,   0,   0,   0,   0,\n",
              "         0,   0,   0,   0,   0,   0,   0,   0,   0,   0,   0,   0,   0,\n",
              "         0,   0,   0,   0,   0,   0,   0, 100,   0,   0,   0,   0,   0,\n",
              "       100,   0,   0,   0,   0,   0,   0,   0,   0,   0,   0,   0, 100,\n",
              "         0,   0,   0,   0, 100,   0,   0,   0], dtype=int32)"
            ]
          },
          "metadata": {
            "tags": []
          },
          "execution_count": 39
        }
      ]
    },
    {
      "cell_type": "code",
      "metadata": {
        "id": "32UztrQ8Wp21",
        "colab_type": "code",
        "colab": {}
      },
      "source": [
        "print(\"We are doing data analysis for Hummer Candlestick\")\n",
        "days = np.where(result != 0)[0]\n",
        "for i in days :\n",
        "  if result[i] == 100:\n",
        "    print(\"The date\",dates[i],\"is Bullish\")\n",
        "  if result[i] == -100:\n",
        "    print(\"The date\",dates[i],\"is Bearish\")\n"
      ],
      "execution_count": null,
      "outputs": []
    },
    {
      "cell_type": "code",
      "metadata": {
        "id": "wQDQtppK6FGH",
        "colab_type": "code",
        "colab": {}
      },
      "source": [
        "# You can check the dates where the specific Candlestick happened\n",
        "import plotly.graph_objects as go\n",
        "import pandas as pd\n",
        "from datetime import datetime\n",
        "fig = go.Figure(data=[go.Candlestick(x=df['Date'],\n",
        "                open=df['Open'],\n",
        "                high=df['High'],\n",
        "                low=df['Low'],\n",
        "                close=df['Close'])])\n",
        "fig.show()"
      ],
      "execution_count": null,
      "outputs": []
    },
    {
      "cell_type": "markdown",
      "metadata": {
        "id": "YK0SSpFqpVWY",
        "colab_type": "text"
      },
      "source": [
        "## **All Candlestick Models**"
      ]
    },
    {
      "cell_type": "code",
      "metadata": {
        "id": "NF06YAXTotQS",
        "colab_type": "code",
        "colab": {}
      },
      "source": [
        "#CDL2CROWS            Two Crows\n",
        "#CDL3BLACKCROWS       Three Black Crows\n",
        "#CDL3INSIDE           Three Inside Up/Down\n",
        "#CDL3LINESTRIKE       Three-Line Strike\n",
        "#CDL3OUTSIDE          Three Outside Up/Down\n",
        "#CDL3STARSINSOUTH     Three Stars In The South\n",
        "#CDL3WHITESOLDIERS    Three Advancing White Soldiers\n",
        "#CDLABANDONEDBABY     Abandoned Baby\n",
        "#CDLADVANCEBLOCK      Advance Block\n",
        "#CDLBELTHOLD          Belt-hold\n",
        "#CDLBREAKAWAY         Breakaway\n",
        "#CDLCLOSINGMARUBOZU   Closing Marubozu\n",
        "#CDLCONCEALBABYSWALL  Concealing Baby Swallow\n",
        "#CDLCOUNTERATTACK     Counterattack\n",
        "#CDLDARKCLOUDCOVER    Dark Cloud Cover\n",
        "#CDLDOJI              Doji\n",
        "#CDLDOJISTAR          Doji Star\n",
        "#CDLDRAGONFLYDOJI     Dragonfly Doji\n",
        "#CDLENGULFING         Engulfing Pattern\n",
        "#CDLEVENINGDOJISTAR   Evening Doji Star\n",
        "#CDLEVENINGSTAR       Evening Star\n",
        "#CDLGAPSIDESIDEWHITE  Up/Down-gap side-by-side white lines\n",
        "#CDLGRAVESTONEDOJI    Gravestone Doji\n",
        "#CDLHAMMER            Hammer\n",
        "#CDLHANGINGMAN        Hanging Man\n",
        "#CDLHARAMI            Harami Pattern\n",
        "#CDLHARAMICROSS       Harami Cross Pattern *******\n",
        "#CDLHIGHWAVE          High-Wave Candle\n",
        "#CDLHIKKAKE           Hikkake Pattern\n",
        "#CDLHIKKAKEMOD        Modified Hikkake Pattern\n",
        "#CDLHOMINGPIGEON      Homing Pigeon\n",
        "#CDLIDENTICAL3CROWS   Identical Three Crows\n",
        "#CDLINNECK            In-Neck Pattern\n",
        "#CDLINVERTEDHAMMER    Inverted Hammer\n",
        "#CDLKICKING           Kicking\n",
        "#CDLKICKINGBYLENGTH   Kicking - bull/bear determined by the longer marubozu\n",
        "#CDLLADDERBOTTOM      Ladder Bottom\n",
        "#CDLLONGLEGGEDDOJI    Long Legged Doji\n",
        "#CDLLONGLINE          Long Line Candle\n",
        "#CDLMARUBOZU          Marubozu\n",
        "#CDLMATCHINGLOW       Matching Low\n",
        "#CDLMATHOLD           Mat Hold\n",
        "#CDLMORNINGDOJISTAR   Morning Doji Star *****\n",
        "#CDLMORNINGSTAR       Morning Star\n",
        "#CDLONNECK            On-Neck Pattern\n",
        "#CDLPIERCING          Piercing Pattern ******\n",
        "#CDLRICKSHAWMAN       Rickshaw Man\n",
        "#CDLRISEFALL3METHODS  Rising/Falling Three Methods\n",
        "#CDLSEPARATINGLINES   Separating Lines\n",
        "#CDLSHOOTINGSTAR      Shooting Star\n",
        "#CDLSHORTLINE         Short Line Candle\n",
        "#CDLSPINNINGTOP       Spinning Top\n",
        "#CDLSTALLEDPATTERN    Stalled Pattern\n",
        "#CDLSTICKSANDWICH     Stick Sandwich\n",
        "#CDLTAKURI            Takuri (Dragonfly Doji with very long lower shadow)\n",
        "#CDLTASUKIGAP         Tasuki Gap\n",
        "#CDLTHRUSTING         Thrusting Pattern\n",
        "#CDLTRISTAR           Tristar Pattern\n",
        "#CDLUNIQUE3RIVER      Unique 3 River\n",
        "#CDLUPSIDEGAP2CROWS   Upside Gap Two Crows\n",
        "#CDLXSIDEGAP3METHODS  Upside/Downside Gap Three Methods"
      ],
      "execution_count": null,
      "outputs": []
    }
  ]
}