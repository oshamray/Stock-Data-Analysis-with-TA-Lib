{
  "nbformat": 4,
  "nbformat_minor": 0,
  "metadata": {
    "colab": {
      "name": "Fin_Analysis.ipynb",
      "provenance": [],
      "collapsed_sections": [],
      "authorship_tag": "ABX9TyNmfy5G5lg4Ncj0EnIGXSE3",
      "include_colab_link": true
    },
    "kernelspec": {
      "name": "python3",
      "display_name": "Python 3"
    }
  },
  "cells": [
    {
      "cell_type": "markdown",
      "metadata": {
        "id": "view-in-github",
        "colab_type": "text"
      },
      "source": [
        "<a href=\"https://colab.research.google.com/github/oshamray/Stock-Data-Analysis-with-TA-Lib/blob/master/TA-Lib%20Stock%20analysis.ipynb\" target=\"_parent\"><img src=\"https://colab.research.google.com/assets/colab-badge.svg\" alt=\"Open In Colab\"/></a>"
      ]
    },
    {
      "cell_type": "markdown",
      "metadata": {
        "id": "ECo4Z-PtSxHd",
        "colab_type": "text"
      },
      "source": [
        "# **TA-Lib prepare for working with Colab area**"
      ]
    },
    {
      "cell_type": "code",
      "metadata": {
        "id": "gpo6R7-uR1mq",
        "colab_type": "code",
        "colab": {}
      },
      "source": [
        "# download TA-Lib \n",
        "!wget http://prdownloads.sourceforge.net/ta-lib/ta-lib-0.4.0-src.tar.gz \n"
      ],
      "execution_count": null,
      "outputs": []
    },
    {
      "cell_type": "code",
      "metadata": {
        "id": "bsxhSZ-GS-eX",
        "colab_type": "code",
        "colab": {}
      },
      "source": [
        "!ls"
      ],
      "execution_count": null,
      "outputs": []
    },
    {
      "cell_type": "code",
      "metadata": {
        "id": "gtbWkoqnTAoK",
        "colab_type": "code",
        "colab": {}
      },
      "source": [
        "!tar xvzf ta-lib-0.4.0-src.tar.gz"
      ],
      "execution_count": null,
      "outputs": []
    },
    {
      "cell_type": "code",
      "metadata": {
        "id": "rnUfZnDCTG_M",
        "colab_type": "code",
        "colab": {}
      },
      "source": [
        "!ls"
      ],
      "execution_count": null,
      "outputs": []
    },
    {
      "cell_type": "code",
      "metadata": {
        "id": "8mejj2cLTOik",
        "colab_type": "code",
        "colab": {}
      },
      "source": [
        "import os"
      ],
      "execution_count": 20,
      "outputs": []
    },
    {
      "cell_type": "code",
      "metadata": {
        "id": "II74YaEsTSPJ",
        "colab_type": "code",
        "colab": {}
      },
      "source": [
        "os.chdir('ta-lib') # Can't use !cd in co-lab"
      ],
      "execution_count": 21,
      "outputs": []
    },
    {
      "cell_type": "code",
      "metadata": {
        "id": "KhL-XZTCTXnU",
        "colab_type": "code",
        "colab": {}
      },
      "source": [
        "!./configure --prefix=/usr"
      ],
      "execution_count": null,
      "outputs": []
    },
    {
      "cell_type": "code",
      "metadata": {
        "id": "CVTddTA6TemF",
        "colab_type": "code",
        "colab": {}
      },
      "source": [
        "!make"
      ],
      "execution_count": null,
      "outputs": []
    },
    {
      "cell_type": "code",
      "metadata": {
        "id": "_6vKEld2Ti5Z",
        "colab_type": "code",
        "colab": {}
      },
      "source": [
        "!make install"
      ],
      "execution_count": null,
      "outputs": []
    },
    {
      "cell_type": "code",
      "metadata": {
        "id": "L5AQVJxVT8Gm",
        "colab_type": "code",
        "colab": {}
      },
      "source": [
        "os.chdir('../')"
      ],
      "execution_count": 25,
      "outputs": []
    },
    {
      "cell_type": "code",
      "metadata": {
        "id": "hyiasT11UAbq",
        "colab_type": "code",
        "colab": {}
      },
      "source": [
        "!ls"
      ],
      "execution_count": null,
      "outputs": []
    },
    {
      "cell_type": "code",
      "metadata": {
        "id": "o_StwfYzUEJI",
        "colab_type": "code",
        "colab": {}
      },
      "source": [
        "!pip install TA-Lib"
      ],
      "execution_count": null,
      "outputs": []
    },
    {
      "cell_type": "markdown",
      "metadata": {
        "id": "hwzJaewxTlVZ",
        "colab_type": "text"
      },
      "source": [
        "# **Start working with TA-Lib**"
      ]
    },
    {
      "cell_type": "code",
      "metadata": {
        "id": "BIlu2ZokRNQC",
        "colab_type": "code",
        "colab": {}
      },
      "source": [
        "import talib\n",
        "import numpy as np\n",
        "import pandas as pd"
      ],
      "execution_count": 69,
      "outputs": []
    },
    {
      "cell_type": "code",
      "metadata": {
        "id": "GYO4pGjVUiwh",
        "colab_type": "code",
        "colab": {}
      },
      "source": [
        "pip install mpl_finance"
      ],
      "execution_count": null,
      "outputs": []
    },
    {
      "cell_type": "code",
      "metadata": {
        "id": "GgY3HgOl0fbm",
        "colab_type": "code",
        "colab": {}
      },
      "source": [
        "pip install yfinance"
      ],
      "execution_count": null,
      "outputs": []
    },
    {
      "cell_type": "code",
      "metadata": {
        "id": "xg0QSi-k4qyn",
        "colab_type": "code",
        "colab": {
          "base_uri": "https://localhost:8080/",
          "height": 67
        },
        "outputId": "b611bebf-1ba2-4074-fd09-ccf56d5ea9d2"
      },
      "source": [
        "pip install plotly"
      ],
      "execution_count": 48,
      "outputs": [
        {
          "output_type": "stream",
          "text": [
            "Requirement already satisfied: plotly in /usr/local/lib/python3.6/dist-packages (4.4.1)\n",
            "Requirement already satisfied: retrying>=1.3.3 in /usr/local/lib/python3.6/dist-packages (from plotly) (1.3.3)\n",
            "Requirement already satisfied: six in /usr/local/lib/python3.6/dist-packages (from plotly) (1.12.0)\n"
          ],
          "name": "stdout"
        }
      ]
    },
    {
      "cell_type": "code",
      "metadata": {
        "id": "hF26KRc80PWb",
        "colab_type": "code",
        "colab": {
          "base_uri": "https://localhost:8080/",
          "height": 34
        },
        "outputId": "5301c773-a80d-4cdc-ba41-b639aaeddc06"
      },
      "source": [
        "import yfinance as yf\n",
        "df = yf.download(\"INTC\", start=\"2020-01-01\", end=\"2020-07-01\")\n",
        "df.reset_index(drop=False, inplace=True)"
      ],
      "execution_count": 41,
      "outputs": [
        {
          "output_type": "stream",
          "text": [
            "\r[*********************100%***********************]  1 of 1 completed\n"
          ],
          "name": "stdout"
        }
      ]
    },
    {
      "cell_type": "code",
      "metadata": {
        "id": "K6Q9yB_C1ICp",
        "colab_type": "code",
        "colab": {}
      },
      "source": [
        "dates = df[df.columns[0]]"
      ],
      "execution_count": 70,
      "outputs": []
    },
    {
      "cell_type": "code",
      "metadata": {
        "id": "RwtyuXxcWeNv",
        "colab_type": "code",
        "colab": {}
      },
      "source": [
        "Open = df['Open'].values\n",
        "High = df['High'].values\n",
        "Low = df['Low'].values\n",
        "Close = df['Close'].values\n",
        "result = talib.CDLHAMMER(Open,High,Low,Close)\n",
        "#result = talib.CDLHARAMICROSS(Open,High,Low,Close)\n",
        "#result = talib.CDLCONCEALBABYSWALL(Open,High,Low,Close)"
      ],
      "execution_count": 71,
      "outputs": []
    },
    {
      "cell_type": "code",
      "metadata": {
        "id": "R9-CDW8VWh3Q",
        "colab_type": "code",
        "colab": {
          "base_uri": "https://localhost:8080/",
          "height": 185
        },
        "outputId": "76403a73-768a-4a11-c3cd-1a1e08068e69"
      },
      "source": [
        "result"
      ],
      "execution_count": 72,
      "outputs": [
        {
          "output_type": "execute_result",
          "data": {
            "text/plain": [
              "array([  0,   0,   0,   0,   0,   0,   0,   0,   0,   0,   0,   0,   0,\n",
              "         0,   0,   0,   0,   0,   0,   0,   0,   0,   0,   0,   0,   0,\n",
              "         0,   0,   0,   0,   0,   0,   0,   0,   0,   0,   0,   0,   0,\n",
              "         0,   0,   0,   0,   0, 100,   0,   0,   0,   0,   0,   0,   0,\n",
              "         0,   0,   0,   0,   0,   0,   0,   0,   0,   0,   0,   0,   0,\n",
              "         0,   0,   0,   0,   0,   0,   0,   0,   0,   0,   0,   0,   0,\n",
              "         0,   0,   0,   0,   0,   0,   0,   0,   0,   0,   0,   0,   0,\n",
              "         0,   0,   0,   0,   0,   0,   0, 100,   0,   0,   0,   0,   0,\n",
              "       100,   0,   0,   0,   0,   0,   0,   0,   0,   0,   0,   0, 100,\n",
              "         0,   0,   0,   0, 100,   0,   0,   0], dtype=int32)"
            ]
          },
          "metadata": {
            "tags": []
          },
          "execution_count": 72
        }
      ]
    },
    {
      "cell_type": "code",
      "metadata": {
        "id": "32UztrQ8Wp21",
        "colab_type": "code",
        "colab": {
          "base_uri": "https://localhost:8080/",
          "height": 118
        },
        "outputId": "19158abb-a760-42ea-b4e8-7450a97f0cd9"
      },
      "source": [
        "print(\"We are doing data analysis for Hummer Candlestick\")\n",
        "days = np.where(result != 0)[0]\n",
        "for i in days :\n",
        "  if result[i] == 100:\n",
        "    print(\"The date\",dates[i],\"is Bullish\")\n",
        "  if result[i] == -100:\n",
        "    print(\"The date\",dates[i],\"is Bearish\")\n"
      ],
      "execution_count": 73,
      "outputs": [
        {
          "output_type": "stream",
          "text": [
            "We are doing data analysis for Hummer Candlestick\n",
            "The date 2020-03-06 00:00:00 is Bullish\n",
            "The date 2020-05-22 00:00:00 is Bullish\n",
            "The date 2020-06-02 00:00:00 is Bullish\n",
            "The date 2020-06-18 00:00:00 is Bullish\n",
            "The date 2020-06-25 00:00:00 is Bullish\n"
          ],
          "name": "stdout"
        }
      ]
    },
    {
      "cell_type": "code",
      "metadata": {
        "id": "wQDQtppK6FGH",
        "colab_type": "code",
        "colab": {
          "base_uri": "https://localhost:8080/",
          "height": 542
        },
        "outputId": "ad5711a7-82d2-45c6-a7e7-4080f69cd227"
      },
      "source": [
        "# You can check the dates where the specific Candlestick happened\n",
        "import plotly.graph_objects as go\n",
        "import pandas as pd\n",
        "from datetime import datetime\n",
        "fig = go.Figure(data=[go.Candlestick(x=df['Date'],\n",
        "                open=df['Open'],\n",
        "                high=df['High'],\n",
        "                low=df['Low'],\n",
        "                close=df['Close'])])\n",
        "fig.show()"
      ],
      "execution_count": 74,
      "outputs": [
        {
          "output_type": "display_data",
          "data": {
            "text/html": [
              "<html>\n",
              "<head><meta charset=\"utf-8\" /></head>\n",
              "<body>\n",
              "    <div>\n",
              "            <script src=\"https://cdnjs.cloudflare.com/ajax/libs/mathjax/2.7.5/MathJax.js?config=TeX-AMS-MML_SVG\"></script><script type=\"text/javascript\">if (window.MathJax) {MathJax.Hub.Config({SVG: {font: \"STIX-Web\"}});}</script>\n",
              "                <script type=\"text/javascript\">window.PlotlyConfig = {MathJaxConfig: 'local'};</script>\n",
              "        <script src=\"https://cdn.plot.ly/plotly-latest.min.js\"></script>    \n",
              "            <div id=\"6fda53d8-a387-4f2f-81d7-784d9ce28570\" class=\"plotly-graph-div\" style=\"height:525px; width:100%;\"></div>\n",
              "            <script type=\"text/javascript\">\n",
              "                \n",
              "                    window.PLOTLYENV=window.PLOTLYENV || {};\n",
              "                    \n",
              "                if (document.getElementById(\"6fda53d8-a387-4f2f-81d7-784d9ce28570\")) {\n",
              "                    Plotly.newPlot(\n",
              "                        '6fda53d8-a387-4f2f-81d7-784d9ce28570',\n",
              "                        [{\"close\": [60.84000015258789, 60.099998474121094, 59.93000030517578, 58.93000030517578, 58.970001220703125, 59.29999923706055, 58.939998626708984, 59.59000015258789, 59.43000030517578, 58.939998626708984, 59.65999984741211, 59.599998474121094, 60.54999923706055, 62.72999954223633, 63.31999969482422, 68.47000122070312, 65.69000244140625, 67.30999755859375, 66.33000183105469, 66.47000122070312, 63.93000030517578, 64.41999816894531, 65.45999908447266, 67.33999633789062, 67.08999633789062, 66.0199966430664, 66.38999938964844, 67.41000366210938, 67.45999908447266, 67.44000244140625, 67.2699966430664, 66.13999938964844, 67.11000061035156, 65.44999694824219, 64.33999633789062, 61.7599983215332, 59.72999954223633, 59.650001525878906, 55.83000183105469, 55.52000045776367, 58.18000030517578, 55.970001220703125, 58.68000030517578, 56.959999084472656, 55.77000045776367, 50.849998474121094, 53.97999954223633, 51.65999984741211, 45.540000915527344, 54.43000030517578, 44.61000061035156, 50.08000183105469, 47.61000061035156, 45.939998626708984, 45.83000183105469, 49.58000183105469, 52.400001525878906, 51.2599983215332, 55.540000915527344, 52.369998931884766, 55.4900016784668, 54.119998931884766, 51.880001068115234, 54.349998474121094, 54.130001068115234, 58.43000030517578, 58.400001525878906, 58.97999954223633, 57.13999938964844, 58.70000076293945, 60.65999984741211, 58.869998931884766, 60.790000915527344, 60.36000061035156, 59.18000030517578, 56.36000061035156, 60.099998474121094, 59.040000915527344, 59.2599983215332, 59.470001220703125, 58.75, 61.79999923706055, 59.97999954223633, 57.470001220703125, 57.9900016784668, 58.75, 59.18000030517578, 59.16999816894531, 59.66999816894531, 60.130001068115234, 58.38999938964844, 57.7400016784668, 59.08000183105469, 58.279998779296875, 59.91999816894531, 60.290000915527344, 63.099998474121094, 61.97999954223633, 62.2599983215332, 62.34000015258789, 63.560001373291016, 61.70000076293945, 62.93000030517578, 61.86000061035156, 62.119998931884766, 61.93000030517578, 62.970001220703125, 64.33999633789062, 63.66999816894531, 63.040000915527344, 63.869998931884766, 59.70000076293945, 59.33000183105469, 60.099998474121094, 60.400001525878906, 60.4900016784668, 60.08000183105469, 59.619998931884766, 60.09000015258789, 59.91999816894531, 59.09000015258789, 58.5099983215332, 57.5, 58.27000045776367, 59.83000183105469], \"high\": [60.970001220703125, 60.70000076293945, 60.20000076293945, 59.79999923706055, 59.31999969482422, 59.5099983215332, 60.08000183105469, 59.779998779296875, 59.7400016784668, 59.650001525878906, 59.84000015258789, 60.0, 61.25, 62.849998474121094, 63.709999084472656, 69.29000091552734, 67.41999816894531, 67.58000183105469, 68.05999755859375, 66.5, 65.9800033569336, 65.04000091552734, 66.05999755859375, 67.5999984741211, 67.4000015258789, 67.30000305175781, 66.4000015258789, 67.70999908447266, 68.08999633789062, 67.6500015258789, 67.86000061035156, 66.69000244140625, 67.19999694824219, 67.29000091552734, 65.25, 62.77000045776367, 62.279998779296875, 60.81999969482422, 58.5099983215332, 56.380001068115234, 58.220001220703125, 59.02000045776367, 58.709999084472656, 58.65999984741211, 56.0099983215332, 52.709999084472656, 54.0, 53.540000915527344, 50.09000015258789, 55.0, 52.25, 51.630001068115234, 50.04999923706055, 49.22999954223633, 49.41999816894531, 50.4900016784668, 54.63999938964844, 53.790000915527344, 55.95000076293945, 54.63999938964844, 56.099998474121094, 55.79999923706055, 54.689998626708984, 54.560001373291016, 55.130001068115234, 58.77000045776367, 61.4900016784668, 59.5099983215332, 59.720001220703125, 58.77000045776367, 60.900001525878906, 59.83000183105469, 60.959999084472656, 62.130001068115234, 60.040000915527344, 58.599998474121094, 60.5, 60.099998474121094, 59.400001525878906, 59.83000183105469, 60.220001220703125, 62.029998779296875, 61.540000915527344, 59.31999969482422, 58.06999969482422, 59.29999923706055, 59.95000076293945, 60.099998474121094, 59.779998779296875, 60.84000015258789, 60.63999938964844, 59.22999954223633, 59.150001525878906, 58.369998931884766, 60.279998779296875, 61.77000045776367, 63.4900016784668, 63.79999923706055, 62.31999969482422, 64.13999938964844, 63.59000015258789, 63.45000076293945, 63.65999984741211, 62.65999984741211, 62.16999816894531, 62.540000915527344, 63.470001220703125, 65.11000061035156, 64.1500015258789, 63.709999084472656, 64.29000091552734, 63.29999923706055, 60.959999084472656, 60.36000061035156, 61.650001525878906, 61.279998779296875, 60.5099983215332, 60.88999938964844, 60.54999923706055, 60.470001220703125, 59.810001373291016, 59.09000015258789, 58.72999954223633, 58.349998474121094, 59.97999954223633], \"low\": [60.220001220703125, 59.810001373291016, 59.33000183105469, 58.88999938964844, 58.52000045776367, 58.83000183105469, 58.869998931884766, 59.08000183105469, 59.189998626708984, 58.75, 59.06999969482422, 59.2400016784668, 59.790000915527344, 60.970001220703125, 62.810001373291016, 66.45999908447266, 65.5999984741211, 65.94000244140625, 66.16999816894531, 64.93000030517578, 63.66999816894531, 64.30000305175781, 64.91999816894531, 66.12999725341797, 66.7699966430664, 66.01000213623047, 65.44000244140625, 66.56999969482422, 67.30999755859375, 66.73999786376953, 66.81999969482422, 65.87999725341797, 66.18000030517578, 64.55999755859375, 64.04000091552734, 61.31999969482422, 59.459999084472656, 59.27000045776367, 55.79999923706055, 53.599998474121094, 54.52000045776367, 55.400001525878906, 56.15999984741211, 56.61000061035156, 54.540000915527344, 50.0, 50.43000030517578, 51.0099983215332, 45.369998931884766, 47.7400016784668, 43.630001068115234, 45.20000076293945, 45.20000076293945, 45.15999984741211, 45.470001220703125, 45.90999984741211, 51.349998474121094, 49.90999984741211, 51.65999984741211, 52.06999969482422, 52.83000183105469, 53.220001220703125, 51.43000030517578, 51.220001220703125, 52.72999954223633, 56.119998931884766, 58.209999084472656, 57.90999984741211, 56.060001373291016, 56.56999969482422, 59.5099983215332, 58.38999938964844, 58.810001373291016, 59.83000183105469, 58.88999938964844, 55.93000030517578, 57.810001373291016, 58.810001373291016, 56.099998474121094, 58.38999938964844, 58.2599983215332, 59.31999969482422, 59.75, 57.310001373291016, 56.310001373291016, 58.349998474121094, 58.939998626708984, 58.91999816894531, 59.04999923706055, 59.709999084472656, 58.2599983215332, 56.900001525878906, 56.099998474121094, 56.959999084472656, 59.36000061035156, 59.849998474121094, 61.02000045776367, 61.81999969482422, 61.41999816894531, 62.119998931884766, 61.06999969482422, 61.4900016784668, 61.619998931884766, 61.65999984741211, 60.83000183105469, 61.529998779296875, 61.34000015258789, 63.15999984741211, 62.939998626708984, 62.900001525878906, 62.75, 59.52000045776367, 58.119998931884766, 58.58000183105469, 59.4900016784668, 60.060001373291016, 59.31999969482422, 59.099998474121094, 58.83000183105469, 59.86000061035156, 58.66999816894531, 57.47999954223633, 57.06999969482422, 56.7599983215332, 58.540000915527344], \"open\": [60.2400016784668, 59.810001373291016, 59.59000015258789, 59.779998779296875, 58.88999938964844, 59.04999923706055, 59.56999969482422, 59.16999816894531, 59.4900016784668, 59.29999923706055, 59.2599983215332, 59.97999954223633, 59.810001373291016, 61.040000915527344, 62.86000061035156, 66.56999969482422, 66.72000122070312, 66.5, 67.62999725341797, 65.63999938964844, 65.80000305175781, 64.45999908447266, 65.7699966430664, 66.69000244140625, 67.30000305175781, 66.86000061035156, 65.55999755859375, 66.83000183105469, 67.5999984741211, 66.98999786376953, 67.5199966430664, 66.66000366210938, 66.38999938964844, 67.04000091552734, 65.18000030517578, 61.61000061035156, 61.9900016784668, 60.11000061035156, 57.93000030517578, 54.29999923706055, 55.790000915527344, 58.029998779296875, 57.0099983215332, 57.060001373291016, 55.18000030517578, 51.91999816894531, 52.7599983215332, 52.38999938964844, 47.9900016784668, 48.2599983215332, 47.5099983215332, 45.7599983215332, 46.709999084472656, 47.84000015258789, 46.5099983215332, 46.02000045776367, 53.13999938964844, 52.47999954223633, 51.7400016784668, 53.41999816894531, 52.9900016784668, 55.060001373291016, 52.5, 51.290000915527344, 53.849998474121094, 56.630001068115234, 59.939998626708984, 58.9900016784668, 59.36000061035156, 56.56999969482422, 60.040000915527344, 59.7400016784668, 59.61000061035156, 62.02000045776367, 59.279998779296875, 58.11000061035156, 58.27000045776367, 59.66999816894531, 56.20000076293945, 59.720001220703125, 59.9900016784668, 59.439998626708984, 61.369998931884766, 58.83000183105469, 57.119998931884766, 58.790000915527344, 59.040000915527344, 59.93000030517578, 59.66999816894531, 59.7400016784668, 60.220001220703125, 58.45000076293945, 57.31999969482422, 57.400001525878906, 59.7400016784668, 60.130001068115234, 61.15999984741211, 63.099998474121094, 61.97999954223633, 63.68000030517578, 62.31999969482422, 63.0, 61.900001525878906, 62.4900016784668, 61.70000076293945, 62.45000076293945, 61.7400016784668, 63.36000061035156, 63.970001220703125, 62.9900016784668, 62.790000915527344, 63.06999969482422, 60.11000061035156, 59.33000183105469, 61.4900016784668, 60.7400016784668, 60.349998474121094, 60.650001525878906, 59.72999954223633, 60.189998626708984, 59.63999938964844, 58.97999954223633, 58.4900016784668, 57.470001220703125, 58.709999084472656], \"type\": \"candlestick\", \"x\": [\"2020-01-02T00:00:00\", \"2020-01-03T00:00:00\", \"2020-01-06T00:00:00\", \"2020-01-07T00:00:00\", \"2020-01-08T00:00:00\", \"2020-01-09T00:00:00\", \"2020-01-10T00:00:00\", \"2020-01-13T00:00:00\", \"2020-01-14T00:00:00\", \"2020-01-15T00:00:00\", \"2020-01-16T00:00:00\", \"2020-01-17T00:00:00\", \"2020-01-21T00:00:00\", \"2020-01-22T00:00:00\", \"2020-01-23T00:00:00\", \"2020-01-24T00:00:00\", \"2020-01-27T00:00:00\", \"2020-01-28T00:00:00\", \"2020-01-29T00:00:00\", \"2020-01-30T00:00:00\", \"2020-01-31T00:00:00\", \"2020-02-03T00:00:00\", \"2020-02-04T00:00:00\", \"2020-02-05T00:00:00\", \"2020-02-06T00:00:00\", \"2020-02-07T00:00:00\", \"2020-02-10T00:00:00\", \"2020-02-11T00:00:00\", \"2020-02-12T00:00:00\", \"2020-02-13T00:00:00\", \"2020-02-14T00:00:00\", \"2020-02-18T00:00:00\", \"2020-02-19T00:00:00\", \"2020-02-20T00:00:00\", \"2020-02-21T00:00:00\", \"2020-02-24T00:00:00\", \"2020-02-25T00:00:00\", \"2020-02-26T00:00:00\", \"2020-02-27T00:00:00\", \"2020-02-28T00:00:00\", \"2020-03-02T00:00:00\", \"2020-03-03T00:00:00\", \"2020-03-04T00:00:00\", \"2020-03-05T00:00:00\", \"2020-03-06T00:00:00\", \"2020-03-09T00:00:00\", \"2020-03-10T00:00:00\", \"2020-03-11T00:00:00\", \"2020-03-12T00:00:00\", \"2020-03-13T00:00:00\", \"2020-03-16T00:00:00\", \"2020-03-17T00:00:00\", \"2020-03-18T00:00:00\", \"2020-03-19T00:00:00\", \"2020-03-20T00:00:00\", \"2020-03-23T00:00:00\", \"2020-03-24T00:00:00\", \"2020-03-25T00:00:00\", \"2020-03-26T00:00:00\", \"2020-03-27T00:00:00\", \"2020-03-30T00:00:00\", \"2020-03-31T00:00:00\", \"2020-04-01T00:00:00\", \"2020-04-02T00:00:00\", \"2020-04-03T00:00:00\", \"2020-04-06T00:00:00\", \"2020-04-07T00:00:00\", \"2020-04-08T00:00:00\", \"2020-04-09T00:00:00\", \"2020-04-13T00:00:00\", \"2020-04-14T00:00:00\", \"2020-04-15T00:00:00\", \"2020-04-16T00:00:00\", \"2020-04-17T00:00:00\", \"2020-04-20T00:00:00\", \"2020-04-21T00:00:00\", \"2020-04-22T00:00:00\", \"2020-04-23T00:00:00\", \"2020-04-24T00:00:00\", \"2020-04-27T00:00:00\", \"2020-04-28T00:00:00\", \"2020-04-29T00:00:00\", \"2020-04-30T00:00:00\", \"2020-05-01T00:00:00\", \"2020-05-04T00:00:00\", \"2020-05-05T00:00:00\", \"2020-05-06T00:00:00\", \"2020-05-07T00:00:00\", \"2020-05-08T00:00:00\", \"2020-05-11T00:00:00\", \"2020-05-12T00:00:00\", \"2020-05-13T00:00:00\", \"2020-05-14T00:00:00\", \"2020-05-15T00:00:00\", \"2020-05-18T00:00:00\", \"2020-05-19T00:00:00\", \"2020-05-20T00:00:00\", \"2020-05-21T00:00:00\", \"2020-05-22T00:00:00\", \"2020-05-26T00:00:00\", \"2020-05-27T00:00:00\", \"2020-05-28T00:00:00\", \"2020-05-29T00:00:00\", \"2020-06-01T00:00:00\", \"2020-06-02T00:00:00\", \"2020-06-03T00:00:00\", \"2020-06-04T00:00:00\", \"2020-06-05T00:00:00\", \"2020-06-08T00:00:00\", \"2020-06-09T00:00:00\", \"2020-06-10T00:00:00\", \"2020-06-11T00:00:00\", \"2020-06-12T00:00:00\", \"2020-06-15T00:00:00\", \"2020-06-16T00:00:00\", \"2020-06-17T00:00:00\", \"2020-06-18T00:00:00\", \"2020-06-19T00:00:00\", \"2020-06-22T00:00:00\", \"2020-06-23T00:00:00\", \"2020-06-24T00:00:00\", \"2020-06-25T00:00:00\", \"2020-06-26T00:00:00\", \"2020-06-29T00:00:00\", \"2020-06-30T00:00:00\"]}],\n",
              "                        {\"template\": {\"data\": {\"bar\": [{\"error_x\": {\"color\": \"#2a3f5f\"}, \"error_y\": {\"color\": \"#2a3f5f\"}, \"marker\": {\"line\": {\"color\": \"#E5ECF6\", \"width\": 0.5}}, \"type\": \"bar\"}], \"barpolar\": [{\"marker\": {\"line\": {\"color\": \"#E5ECF6\", \"width\": 0.5}}, \"type\": \"barpolar\"}], \"carpet\": [{\"aaxis\": {\"endlinecolor\": \"#2a3f5f\", \"gridcolor\": \"white\", \"linecolor\": \"white\", \"minorgridcolor\": \"white\", \"startlinecolor\": \"#2a3f5f\"}, \"baxis\": {\"endlinecolor\": \"#2a3f5f\", \"gridcolor\": \"white\", \"linecolor\": \"white\", \"minorgridcolor\": \"white\", \"startlinecolor\": \"#2a3f5f\"}, \"type\": \"carpet\"}], \"choropleth\": [{\"colorbar\": {\"outlinewidth\": 0, \"ticks\": \"\"}, \"type\": \"choropleth\"}], \"contour\": [{\"colorbar\": {\"outlinewidth\": 0, \"ticks\": \"\"}, \"colorscale\": [[0.0, \"#0d0887\"], [0.1111111111111111, \"#46039f\"], [0.2222222222222222, \"#7201a8\"], [0.3333333333333333, \"#9c179e\"], [0.4444444444444444, \"#bd3786\"], [0.5555555555555556, \"#d8576b\"], [0.6666666666666666, \"#ed7953\"], [0.7777777777777778, \"#fb9f3a\"], [0.8888888888888888, \"#fdca26\"], [1.0, \"#f0f921\"]], \"type\": \"contour\"}], \"contourcarpet\": [{\"colorbar\": {\"outlinewidth\": 0, \"ticks\": \"\"}, \"type\": \"contourcarpet\"}], \"heatmap\": [{\"colorbar\": {\"outlinewidth\": 0, \"ticks\": \"\"}, \"colorscale\": [[0.0, \"#0d0887\"], [0.1111111111111111, \"#46039f\"], [0.2222222222222222, \"#7201a8\"], [0.3333333333333333, \"#9c179e\"], [0.4444444444444444, \"#bd3786\"], [0.5555555555555556, \"#d8576b\"], [0.6666666666666666, \"#ed7953\"], [0.7777777777777778, \"#fb9f3a\"], [0.8888888888888888, \"#fdca26\"], [1.0, \"#f0f921\"]], \"type\": \"heatmap\"}], \"heatmapgl\": [{\"colorbar\": {\"outlinewidth\": 0, \"ticks\": \"\"}, \"colorscale\": [[0.0, \"#0d0887\"], [0.1111111111111111, \"#46039f\"], [0.2222222222222222, \"#7201a8\"], [0.3333333333333333, \"#9c179e\"], [0.4444444444444444, \"#bd3786\"], [0.5555555555555556, \"#d8576b\"], [0.6666666666666666, \"#ed7953\"], [0.7777777777777778, \"#fb9f3a\"], [0.8888888888888888, \"#fdca26\"], [1.0, \"#f0f921\"]], \"type\": \"heatmapgl\"}], \"histogram\": [{\"marker\": {\"colorbar\": {\"outlinewidth\": 0, \"ticks\": \"\"}}, \"type\": \"histogram\"}], \"histogram2d\": [{\"colorbar\": {\"outlinewidth\": 0, \"ticks\": \"\"}, \"colorscale\": [[0.0, \"#0d0887\"], [0.1111111111111111, \"#46039f\"], [0.2222222222222222, \"#7201a8\"], [0.3333333333333333, \"#9c179e\"], [0.4444444444444444, \"#bd3786\"], [0.5555555555555556, \"#d8576b\"], [0.6666666666666666, \"#ed7953\"], [0.7777777777777778, \"#fb9f3a\"], [0.8888888888888888, \"#fdca26\"], [1.0, \"#f0f921\"]], \"type\": \"histogram2d\"}], \"histogram2dcontour\": [{\"colorbar\": {\"outlinewidth\": 0, \"ticks\": \"\"}, \"colorscale\": [[0.0, \"#0d0887\"], [0.1111111111111111, \"#46039f\"], [0.2222222222222222, \"#7201a8\"], [0.3333333333333333, \"#9c179e\"], [0.4444444444444444, \"#bd3786\"], [0.5555555555555556, \"#d8576b\"], [0.6666666666666666, \"#ed7953\"], [0.7777777777777778, \"#fb9f3a\"], [0.8888888888888888, \"#fdca26\"], [1.0, \"#f0f921\"]], \"type\": \"histogram2dcontour\"}], \"mesh3d\": [{\"colorbar\": {\"outlinewidth\": 0, \"ticks\": \"\"}, \"type\": \"mesh3d\"}], \"parcoords\": [{\"line\": {\"colorbar\": {\"outlinewidth\": 0, \"ticks\": \"\"}}, \"type\": \"parcoords\"}], \"pie\": [{\"automargin\": true, \"type\": \"pie\"}], \"scatter\": [{\"marker\": {\"colorbar\": {\"outlinewidth\": 0, \"ticks\": \"\"}}, \"type\": \"scatter\"}], \"scatter3d\": [{\"line\": {\"colorbar\": {\"outlinewidth\": 0, \"ticks\": \"\"}}, \"marker\": {\"colorbar\": {\"outlinewidth\": 0, \"ticks\": \"\"}}, \"type\": \"scatter3d\"}], \"scattercarpet\": [{\"marker\": {\"colorbar\": {\"outlinewidth\": 0, \"ticks\": \"\"}}, \"type\": \"scattercarpet\"}], \"scattergeo\": [{\"marker\": {\"colorbar\": {\"outlinewidth\": 0, \"ticks\": \"\"}}, \"type\": \"scattergeo\"}], \"scattergl\": [{\"marker\": {\"colorbar\": {\"outlinewidth\": 0, \"ticks\": \"\"}}, \"type\": \"scattergl\"}], \"scattermapbox\": [{\"marker\": {\"colorbar\": {\"outlinewidth\": 0, \"ticks\": \"\"}}, \"type\": \"scattermapbox\"}], \"scatterpolar\": [{\"marker\": {\"colorbar\": {\"outlinewidth\": 0, \"ticks\": \"\"}}, \"type\": \"scatterpolar\"}], \"scatterpolargl\": [{\"marker\": {\"colorbar\": {\"outlinewidth\": 0, \"ticks\": \"\"}}, \"type\": \"scatterpolargl\"}], \"scatterternary\": [{\"marker\": {\"colorbar\": {\"outlinewidth\": 0, \"ticks\": \"\"}}, \"type\": \"scatterternary\"}], \"surface\": [{\"colorbar\": {\"outlinewidth\": 0, \"ticks\": \"\"}, \"colorscale\": [[0.0, \"#0d0887\"], [0.1111111111111111, \"#46039f\"], [0.2222222222222222, \"#7201a8\"], [0.3333333333333333, \"#9c179e\"], [0.4444444444444444, \"#bd3786\"], [0.5555555555555556, \"#d8576b\"], [0.6666666666666666, \"#ed7953\"], [0.7777777777777778, \"#fb9f3a\"], [0.8888888888888888, \"#fdca26\"], [1.0, \"#f0f921\"]], \"type\": \"surface\"}], \"table\": [{\"cells\": {\"fill\": {\"color\": \"#EBF0F8\"}, \"line\": {\"color\": \"white\"}}, \"header\": {\"fill\": {\"color\": \"#C8D4E3\"}, \"line\": {\"color\": \"white\"}}, \"type\": \"table\"}]}, \"layout\": {\"annotationdefaults\": {\"arrowcolor\": \"#2a3f5f\", \"arrowhead\": 0, \"arrowwidth\": 1}, \"coloraxis\": {\"colorbar\": {\"outlinewidth\": 0, \"ticks\": \"\"}}, \"colorscale\": {\"diverging\": [[0, \"#8e0152\"], [0.1, \"#c51b7d\"], [0.2, \"#de77ae\"], [0.3, \"#f1b6da\"], [0.4, \"#fde0ef\"], [0.5, \"#f7f7f7\"], [0.6, \"#e6f5d0\"], [0.7, \"#b8e186\"], [0.8, \"#7fbc41\"], [0.9, \"#4d9221\"], [1, \"#276419\"]], \"sequential\": [[0.0, \"#0d0887\"], [0.1111111111111111, \"#46039f\"], [0.2222222222222222, \"#7201a8\"], [0.3333333333333333, \"#9c179e\"], [0.4444444444444444, \"#bd3786\"], [0.5555555555555556, \"#d8576b\"], [0.6666666666666666, \"#ed7953\"], [0.7777777777777778, \"#fb9f3a\"], [0.8888888888888888, \"#fdca26\"], [1.0, \"#f0f921\"]], \"sequentialminus\": [[0.0, \"#0d0887\"], [0.1111111111111111, \"#46039f\"], [0.2222222222222222, \"#7201a8\"], [0.3333333333333333, \"#9c179e\"], [0.4444444444444444, \"#bd3786\"], [0.5555555555555556, \"#d8576b\"], [0.6666666666666666, \"#ed7953\"], [0.7777777777777778, \"#fb9f3a\"], [0.8888888888888888, \"#fdca26\"], [1.0, \"#f0f921\"]]}, \"colorway\": [\"#636efa\", \"#EF553B\", \"#00cc96\", \"#ab63fa\", \"#FFA15A\", \"#19d3f3\", \"#FF6692\", \"#B6E880\", \"#FF97FF\", \"#FECB52\"], \"font\": {\"color\": \"#2a3f5f\"}, \"geo\": {\"bgcolor\": \"white\", \"lakecolor\": \"white\", \"landcolor\": \"#E5ECF6\", \"showlakes\": true, \"showland\": true, \"subunitcolor\": \"white\"}, \"hoverlabel\": {\"align\": \"left\"}, \"hovermode\": \"closest\", \"mapbox\": {\"style\": \"light\"}, \"paper_bgcolor\": \"white\", \"plot_bgcolor\": \"#E5ECF6\", \"polar\": {\"angularaxis\": {\"gridcolor\": \"white\", \"linecolor\": \"white\", \"ticks\": \"\"}, \"bgcolor\": \"#E5ECF6\", \"radialaxis\": {\"gridcolor\": \"white\", \"linecolor\": \"white\", \"ticks\": \"\"}}, \"scene\": {\"xaxis\": {\"backgroundcolor\": \"#E5ECF6\", \"gridcolor\": \"white\", \"gridwidth\": 2, \"linecolor\": \"white\", \"showbackground\": true, \"ticks\": \"\", \"zerolinecolor\": \"white\"}, \"yaxis\": {\"backgroundcolor\": \"#E5ECF6\", \"gridcolor\": \"white\", \"gridwidth\": 2, \"linecolor\": \"white\", \"showbackground\": true, \"ticks\": \"\", \"zerolinecolor\": \"white\"}, \"zaxis\": {\"backgroundcolor\": \"#E5ECF6\", \"gridcolor\": \"white\", \"gridwidth\": 2, \"linecolor\": \"white\", \"showbackground\": true, \"ticks\": \"\", \"zerolinecolor\": \"white\"}}, \"shapedefaults\": {\"line\": {\"color\": \"#2a3f5f\"}}, \"ternary\": {\"aaxis\": {\"gridcolor\": \"white\", \"linecolor\": \"white\", \"ticks\": \"\"}, \"baxis\": {\"gridcolor\": \"white\", \"linecolor\": \"white\", \"ticks\": \"\"}, \"bgcolor\": \"#E5ECF6\", \"caxis\": {\"gridcolor\": \"white\", \"linecolor\": \"white\", \"ticks\": \"\"}}, \"title\": {\"x\": 0.05}, \"xaxis\": {\"automargin\": true, \"gridcolor\": \"white\", \"linecolor\": \"white\", \"ticks\": \"\", \"title\": {\"standoff\": 15}, \"zerolinecolor\": \"white\", \"zerolinewidth\": 2}, \"yaxis\": {\"automargin\": true, \"gridcolor\": \"white\", \"linecolor\": \"white\", \"ticks\": \"\", \"title\": {\"standoff\": 15}, \"zerolinecolor\": \"white\", \"zerolinewidth\": 2}}}},\n",
              "                        {\"responsive\": true}\n",
              "                    ).then(function(){\n",
              "                            \n",
              "var gd = document.getElementById('6fda53d8-a387-4f2f-81d7-784d9ce28570');\n",
              "var x = new MutationObserver(function (mutations, observer) {{\n",
              "        var display = window.getComputedStyle(gd).display;\n",
              "        if (!display || display === 'none') {{\n",
              "            console.log([gd, 'removed!']);\n",
              "            Plotly.purge(gd);\n",
              "            observer.disconnect();\n",
              "        }}\n",
              "}});\n",
              "\n",
              "// Listen for the removal of the full notebook cells\n",
              "var notebookContainer = gd.closest('#notebook-container');\n",
              "if (notebookContainer) {{\n",
              "    x.observe(notebookContainer, {childList: true});\n",
              "}}\n",
              "\n",
              "// Listen for the clearing of the current output cell\n",
              "var outputEl = gd.closest('.output');\n",
              "if (outputEl) {{\n",
              "    x.observe(outputEl, {childList: true});\n",
              "}}\n",
              "\n",
              "                        })\n",
              "                };\n",
              "                \n",
              "            </script>\n",
              "        </div>\n",
              "</body>\n",
              "</html>"
            ]
          },
          "metadata": {
            "tags": []
          }
        }
      ]
    },
    {
      "cell_type": "markdown",
      "metadata": {
        "id": "YK0SSpFqpVWY",
        "colab_type": "text"
      },
      "source": [
        "## **All Candlestick Models**"
      ]
    },
    {
      "cell_type": "code",
      "metadata": {
        "id": "NF06YAXTotQS",
        "colab_type": "code",
        "colab": {}
      },
      "source": [
        "#CDL2CROWS            Two Crows\n",
        "#CDL3BLACKCROWS       Three Black Crows\n",
        "#CDL3INSIDE           Three Inside Up/Down\n",
        "#CDL3LINESTRIKE       Three-Line Strike\n",
        "#CDL3OUTSIDE          Three Outside Up/Down\n",
        "#CDL3STARSINSOUTH     Three Stars In The South\n",
        "#CDL3WHITESOLDIERS    Three Advancing White Soldiers\n",
        "#CDLABANDONEDBABY     Abandoned Baby\n",
        "#CDLADVANCEBLOCK      Advance Block\n",
        "#CDLBELTHOLD          Belt-hold\n",
        "#CDLBREAKAWAY         Breakaway\n",
        "#CDLCLOSINGMARUBOZU   Closing Marubozu\n",
        "#CDLCONCEALBABYSWALL  Concealing Baby Swallow\n",
        "#CDLCOUNTERATTACK     Counterattack\n",
        "#CDLDARKCLOUDCOVER    Dark Cloud Cover\n",
        "#CDLDOJI              Doji\n",
        "#CDLDOJISTAR          Doji Star\n",
        "#CDLDRAGONFLYDOJI     Dragonfly Doji\n",
        "#CDLENGULFING         Engulfing Pattern\n",
        "#CDLEVENINGDOJISTAR   Evening Doji Star\n",
        "#CDLEVENINGSTAR       Evening Star\n",
        "#CDLGAPSIDESIDEWHITE  Up/Down-gap side-by-side white lines\n",
        "#CDLGRAVESTONEDOJI    Gravestone Doji\n",
        "#CDLHAMMER            Hammer\n",
        "#CDLHANGINGMAN        Hanging Man\n",
        "#CDLHARAMI            Harami Pattern\n",
        "#CDLHARAMICROSS       Harami Cross Pattern *******\n",
        "#CDLHIGHWAVE          High-Wave Candle\n",
        "#CDLHIKKAKE           Hikkake Pattern\n",
        "#CDLHIKKAKEMOD        Modified Hikkake Pattern\n",
        "#CDLHOMINGPIGEON      Homing Pigeon\n",
        "#CDLIDENTICAL3CROWS   Identical Three Crows\n",
        "#CDLINNECK            In-Neck Pattern\n",
        "#CDLINVERTEDHAMMER    Inverted Hammer\n",
        "#CDLKICKING           Kicking\n",
        "#CDLKICKINGBYLENGTH   Kicking - bull/bear determined by the longer marubozu\n",
        "#CDLLADDERBOTTOM      Ladder Bottom\n",
        "#CDLLONGLEGGEDDOJI    Long Legged Doji\n",
        "#CDLLONGLINE          Long Line Candle\n",
        "#CDLMARUBOZU          Marubozu\n",
        "#CDLMATCHINGLOW       Matching Low\n",
        "#CDLMATHOLD           Mat Hold\n",
        "#CDLMORNINGDOJISTAR   Morning Doji Star *****\n",
        "#CDLMORNINGSTAR       Morning Star\n",
        "#CDLONNECK            On-Neck Pattern\n",
        "#CDLPIERCING          Piercing Pattern ******\n",
        "#CDLRICKSHAWMAN       Rickshaw Man\n",
        "#CDLRISEFALL3METHODS  Rising/Falling Three Methods\n",
        "#CDLSEPARATINGLINES   Separating Lines\n",
        "#CDLSHOOTINGSTAR      Shooting Star\n",
        "#CDLSHORTLINE         Short Line Candle\n",
        "#CDLSPINNINGTOP       Spinning Top\n",
        "#CDLSTALLEDPATTERN    Stalled Pattern\n",
        "#CDLSTICKSANDWICH     Stick Sandwich\n",
        "#CDLTAKURI            Takuri (Dragonfly Doji with very long lower shadow)\n",
        "#CDLTASUKIGAP         Tasuki Gap\n",
        "#CDLTHRUSTING         Thrusting Pattern\n",
        "#CDLTRISTAR           Tristar Pattern\n",
        "#CDLUNIQUE3RIVER      Unique 3 River\n",
        "#CDLUPSIDEGAP2CROWS   Upside Gap Two Crows\n",
        "#CDLXSIDEGAP3METHODS  Upside/Downside Gap Three Methods"
      ],
      "execution_count": null,
      "outputs": []
    }
  ]
}